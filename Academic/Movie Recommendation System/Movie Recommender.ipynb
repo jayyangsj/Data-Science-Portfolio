{
 "cells": [
  {
   "cell_type": "markdown",
   "metadata": {},
   "source": [
    "# Movie Recommender 1.0"
   ]
  },
  {
   "cell_type": "markdown",
   "metadata": {},
   "source": [
    "###### April, 2020"
   ]
  },
  {
   "cell_type": "code",
   "execution_count": null,
   "metadata": {},
   "outputs": [],
   "source": [
    "\"\"\"\n",
    "Context\n",
    "In this lab, you will be implementing a simple movie recommender system.\n",
    "Dataset details\n",
    "You will be using the ml-m1 dataset from the MovieLense website.\n",
    "You will be using movies.dat and rating.dat for building your recommender.\n",
    "\"\"\"\n",
    "import numpy as np\n",
    "import matplotlib.pyplot as plt\n",
    "import pandas as pd"
   ]
  },
  {
   "cell_type": "code",
   "execution_count": null,
   "metadata": {},
   "outputs": [],
   "source": [
    "\"\"\" Step 0. load and preprocess data \"\"\"\n",
    "\n",
    "# use info. from README.txt to name columns\n",
    "user_col_names = 'UserID::Gender::Age::Occupation::Zip-code'.split('::')\n",
    "# load data using '::' as separator\n",
    "users = pd.read_table(r'ml-1m\\users.dat', header = None, sep = '::', names = user_col_names)\n",
    "users.head()\n",
    "users.shape\n",
    "users.info()\n",
    "users.describe()\n",
    "\n",
    "\n",
    "# load and preprocess movies.dat\n",
    "movie_col_names = 'MovieID::Title::Genres'.split('::')\n",
    "movies = pd.read_table(r'ml-1m\\movies.dat', header = None, sep ='::', names = movie_col_names, encoding = 'ISO-8859-1')\n",
    "movies.head()\n",
    "movies.shape\n",
    "movies.info()\n",
    "movies.describe()\n",
    "\n",
    "\n",
    "# load and preprocess ratings.dat\n",
    "rating_col_names = 'UserID::MovieID::Rating::Timestamp'.split('::')\n",
    "ratings = pd.read_table(r'ml-1m\\ratings.dat', header = None, sep ='::', names = rating_col_names)\n",
    "ratings.head()\n",
    "ratings.shape\n",
    "ratings.info()\n",
    "ratings.describe()"
   ]
  },
  {
   "cell_type": "code",
   "execution_count": null,
   "metadata": {},
   "outputs": [],
   "source": [
    "#### load and preprocess data ####\n",
    "\n",
    "\"\"\" Step 1. Create m x u matrix with movies as row and users as column\"\"\"\n",
    "from sklearn.feature_extraction.text import CountVectorizer\n",
    "from sklearn.metrics.pairwise import cosine_similarity\n",
    "\n",
    "R_df = ratings.pivot(index = 'UserID', columns ='MovieID', values = 'Rating').fillna(0)\n",
    "R_df.head()"
   ]
  },
  {
   "cell_type": "code",
   "execution_count": null,
   "metadata": {},
   "outputs": [],
   "source": [
    "# convert data frame to a matrix\n",
    "\n",
    "#R = R_df.as_matrix() \n",
    "R = np.array(R_df)\n",
    "print(R)"
   ]
  },
  {
   "cell_type": "code",
   "execution_count": null,
   "metadata": {},
   "outputs": [],
   "source": [
    "\"\"\" Step 2. Normalize the matrix \"\"\"\n",
    "\n",
    "# normalize by each users mean\n",
    "user_ratings_mean = np.mean(R, axis = 1)\n",
    "pd.DataFrame(user_ratings_mean).head()\n",
    "\n",
    "# normalize it\n",
    "R_demeaned = R - user_ratings_mean.reshape(-1, 1)\n",
    "pd.DataFrame(R_demeaned).head()"
   ]
  },
  {
   "cell_type": "code",
   "execution_count": null,
   "metadata": {},
   "outputs": [],
   "source": [
    "\"\"\" Step 3. Compute SVD to get U, S, and V. Use np.linalg.svd() \"\"\"\n",
    "from scipy.sparse.linalg import svds\n",
    "\n",
    "# choose 50 of them so \n",
    "U, sigma, Vt = svds(R_demeaned, k = 50) \n",
    "U.shape\n",
    "# convert sigma to diagonal matrix to leverage matrix multiplication to get predictions\n",
    "sigma = np.diag(sigma)\n",
    "sigma.shape\n",
    "\n",
    "Vt.shape\n",
    "V = Vt.T\n",
    "V.shape"
   ]
  },
  {
   "cell_type": "code",
   "execution_count": null,
   "metadata": {},
   "outputs": [],
   "source": [
    "\"\"\" Step 4. From your V.T select 50 components \"\"\"\n",
    "print(Vt.shape, '\\n\\n', Vt)"
   ]
  },
  {
   "cell_type": "code",
   "execution_count": null,
   "metadata": {},
   "outputs": [],
   "source": [
    "# multiply U, sigma, Vt back to get 50 approximations of R\n",
    "all_user_predicted_ratings = np.dot(np.dot(U, sigma), Vt) + user_ratings_mean.reshape(-1, 1) # add user mean back for 5 stars\n",
    "all_user_predicted_ratings.shape\n",
    "pd.DataFrame(all_user_predicted_ratings).head()\n",
    "\n",
    "# this is the prediction matrix from which top k movies can be found\n",
    "preds_df = pd.DataFrame(all_user_predicted_ratings, columns = R_df.columns)\n",
    "preds_df.shape\n",
    "preds_df.columns\n",
    "# 6040 users, 3706 movies\n",
    "preds_df.head()"
   ]
  },
  {
   "cell_type": "code",
   "execution_count": null,
   "metadata": {},
   "outputs": [],
   "source": [
    "\"\"\" Step 5. Implement a function that takes movieID as input and then implement cosine similarity\n",
    "            along with sorting to recommend the top 10 movies. \"\"\"\n",
    "            \n",
    "# Cosine similarity is a metric used to determine how similar the documents are irrespective of their size.\n",
    "\n",
    "# use columns of preds_df as vectors to compute cosine similarity\n",
    "\n",
    "def cos_sim(a, b):\n",
    "\t\"\"\"Takes 2 vectors a, b and returns the cosine similarity according \n",
    "\tto the definition of the dot product\n",
    "\t\"\"\"\n",
    "\tdot_product = np.dot(a, b)\n",
    "\tnorm_a = np.linalg.norm(a)\n",
    "\tnorm_b = np.linalg.norm(b)\n",
    "\treturn dot_product / (norm_a * norm_b)\n",
    "\n",
    "def movie_cosine(movieID):\n",
    "    \"\"\"Takes one movie ID and returns the cosine similarity \"\"\"\n",
    "    n = preds_df.shape[1]\n",
    "    similarity = []\n",
    "    for i in range(n):\n",
    "        # movie ID is 1 larger and index \n",
    "        cosim = cos_sim(preds_df.iloc[:, movieID-1], preds_df.iloc[:, i])\n",
    "        similarity.append(cosim)\n",
    "    return similarity\n",
    "\n",
    "def find_top10(movieID):\n",
    "    \"\"\"returns the movie IDs and information of the those movies\"\"\"\n",
    "    # find the indices of the cosine similarity from min to max\n",
    "    alist = movie_cosine(movieID)\n",
    "    ind = np.argsort(np.array(alist))\n",
    "    # pick the first 11 of the reversed indices (from max to min)\n",
    "    top10_ind = ind[::-1][0:11]\n",
    "    #return the columns names(movie ID) that have the top 11 similarity by broadcasting\n",
    "    top10 = preds_df.iloc[:, top10_ind].columns[1:]\n",
    "    top10 = np.array(top10)\n",
    "    # return the top 10 similar movieID and the fulll information of the movies\n",
    "    return (top10, '\\n', movies.iloc[(top10-1), ])\n",
    "\n",
    "find_top10(2)"
   ]
  },
  {
   "cell_type": "code",
   "execution_count": null,
   "metadata": {},
   "outputs": [],
   "source": [
    "find_top10(200)"
   ]
  },
  {
   "cell_type": "code",
   "execution_count": null,
   "metadata": {},
   "outputs": [],
   "source": [
    "find_top10(3000)"
   ]
  }
 ],
 "metadata": {
  "kernelspec": {
   "display_name": "Python 3",
   "language": "python",
   "name": "python3"
  },
  "language_info": {
   "codemirror_mode": {
    "name": "ipython",
    "version": 3
   },
   "file_extension": ".py",
   "mimetype": "text/x-python",
   "name": "python",
   "nbconvert_exporter": "python",
   "pygments_lexer": "ipython3",
   "version": "3.7.3"
  }
 },
 "nbformat": 4,
 "nbformat_minor": 2
}
