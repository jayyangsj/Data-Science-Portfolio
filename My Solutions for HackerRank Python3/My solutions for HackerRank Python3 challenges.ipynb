{
 "cells": [
  {
   "cell_type": "code",
   "execution_count": null,
   "metadata": {},
   "outputs": [],
   "source": [
    "%config IPCompleter.greedy=True"
   ]
  },
  {
   "cell_type": "markdown",
   "metadata": {},
   "source": [
    "## Collections"
   ]
  },
  {
   "cell_type": "markdown",
   "metadata": {},
   "source": [
    "collections.namedtuple() <br>\n",
    "https://www.hackerrank.com/challenges/py-collections-namedtuple/problem <br>\n",
    "https://www.hackerrank.com/challenges/py-collections-namedtuple/submissions/code/189199646"
   ]
  },
  {
   "cell_type": "code",
   "execution_count": null,
   "metadata": {},
   "outputs": [],
   "source": [
    "# sample input\n",
    "# 5\n",
    "# ID         MARKS      NAME       CLASS     \n",
    "# 1          97         Raymond    7         \n",
    "# 2          50         Steven     4         \n",
    "# 3          91         Adrian     9         \n",
    "# 4          72         Stewart    5         \n",
    "# 5          80         Peter      6   "
   ]
  },
  {
   "cell_type": "markdown",
   "metadata": {},
   "source": [
    "below is my completely original solution submitted on 11/25/2020 without reading anyone else's code"
   ]
  },
  {
   "cell_type": "code",
   "execution_count": null,
   "metadata": {},
   "outputs": [],
   "source": [
    "# The challenege is to solve the problem within 4 lines.\n",
    "from collections import namedtuple\n",
    "\n",
    "n,Students = int(input()),namedtuple('Students', input())\n",
    "print('{0:.2f}'.format(sum([int(Students(*input().split()).MARKS) for _ in range(n)])/n))"
   ]
  },
  {
   "cell_type": "code",
   "execution_count": null,
   "metadata": {},
   "outputs": [],
   "source": [
    "# the above code is equivalent to the following code without creating a list or declaring object marks \n",
    "scores = []\n",
    "\n",
    "n = int(input())\n",
    "Students = namedtuple('Students', input())\n",
    "\n",
    "for _ in range(n):\n",
    "    marks = Students(*input().split())\n",
    "    scores.append(int(marks.MARKS))\n",
    "\n",
    "print('{0:.2f}'.format(sum(scores)/n))"
   ]
  },
  {
   "cell_type": "markdown",
   "metadata": {},
   "source": [
    "collections.deque() <br>\n",
    "https://www.hackerrank.com/challenges/py-collections-deque/problem <br>\n",
    "https://www.hackerrank.com/challenges/py-collections-deque/submissions/code/189545006"
   ]
  },
  {
   "cell_type": "code",
   "execution_count": null,
   "metadata": {},
   "outputs": [],
   "source": [
    "# sample input\n",
    "# 6\n",
    "# append 1\n",
    "# append 2\n",
    "# append 3\n",
    "# appendleft 4\n",
    "# pop\n",
    "# popleft"
   ]
  },
  {
   "cell_type": "code",
   "execution_count": null,
   "metadata": {},
   "outputs": [],
   "source": [
    "# use getattr\n",
    "from collections import deque\n",
    "d = deque()\n",
    "\n",
    "for _ in range(int(input())):\n",
    "    cmd, *args = input().split()\n",
    "    getattr(d, cmd)(*args)\n",
    "\n",
    "print(*d)"
   ]
  },
  {
   "cell_type": "code",
   "execution_count": null,
   "metadata": {},
   "outputs": [],
   "source": [
    "# use eval\n",
    "# the above code is equivalent to the following code without creating deque object d or commands \n",
    "from collections import deque\n",
    "\n",
    "# take number of iterations\n",
    "# iterate that many times\n",
    "# evaluate the commands\n",
    "# print\n",
    "\n",
    "d = deque()\n",
    "\n",
    "for i in range(int(input())):\n",
    "    commands = input().split()\n",
    "    \n",
    "    if len(commands) == 2:\n",
    "        eval('d.'+commands[0] +'(' + commands[1] + ')')\n",
    "    else:\n",
    "        eval('d.'+ commands[0] + '()')\n",
    "        \n",
    "print(*d)"
   ]
  },
  {
   "cell_type": "markdown",
   "metadata": {},
   "source": [
    "collections.OrderedDict <br>\n",
    "https://www.hackerrank.com/challenges/py-collections-ordereddict/problem <br>\n",
    "https://www.hackerrank.com/challenges/py-collections-ordereddict/submissions/code/190636913"
   ]
  },
  {
   "cell_type": "code",
   "execution_count": null,
   "metadata": {},
   "outputs": [],
   "source": [
    "from collections import OrderedDict\n",
    "\n",
    "d = OrderedDict()\n",
    "for _ in range(int(input())):\n",
    "    item, space, price = input().rpartition(' ')\n",
    "    d[item] = d.get(item, 0) + int(price)\n",
    "print(*[' '.join([item, str(price)]) for item, price in d.items()], sep=\"\\n\")"
   ]
  },
  {
   "cell_type": "markdown",
   "metadata": {},
   "source": [
    "## Math"
   ]
  },
  {
   "cell_type": "markdown",
   "metadata": {},
   "source": [
    "Integers Come In All Sizes <br>\n",
    "https://www.hackerrank.com/challenges/python-integers-come-in-all-sizes/problem <br>\n",
    "https://www.hackerrank.com/challenges/python-integers-come-in-all-sizes/submissions/code/190138497"
   ]
  },
  {
   "cell_type": "code",
   "execution_count": null,
   "metadata": {},
   "outputs": [],
   "source": [
    "# Sample Input\n",
    "\n",
    "# 9\n",
    "# 29\n",
    "# 7\n",
    "# 27"
   ]
  },
  {
   "cell_type": "code",
   "execution_count": null,
   "metadata": {},
   "outputs": [],
   "source": [
    "# version 1\n",
    "a,b,c,d = (int(input()) for _ in range(4))\n",
    "print(a**b + c**d)"
   ]
  },
  {
   "cell_type": "code",
   "execution_count": null,
   "metadata": {},
   "outputs": [],
   "source": [
    "# one-liner\n",
    "print(int(input()**int(input() + int(input()**int(input())"
   ]
  },
  {
   "cell_type": "code",
   "execution_count": null,
   "metadata": {},
   "outputs": [],
   "source": [
    "'''\n",
    "Note:\n",
    "Using the power operator ** will be faster as it won’t have the overhead of a function call. You can see this if you disassemble the Python code\n",
    "'''"
   ]
  },
  {
   "cell_type": "code",
   "execution_count": null,
   "metadata": {},
   "outputs": [],
   "source": [
    "# beginner version\n",
    "a = int(input())\n",
    "b = int(input())\n",
    "c = int(input())\n",
    "d = int(input())\n",
    "print(pow(a, b) + pow(c, d))"
   ]
  },
  {
   "cell_type": "markdown",
   "metadata": {},
   "source": [
    "Power - Mod Power <br>\n",
    "https://www.hackerrank.com/challenges/python-power-mod-power/problem <br>\n",
    "https://www.hackerrank.com/challenges/python-power-mod-power/submissions/code/190279934"
   ]
  },
  {
   "cell_type": "code",
   "execution_count": null,
   "metadata": {},
   "outputs": [],
   "source": [
    "a,b,m = (int(input()) for _ in range(3))\n",
    "print(pow(a,b), pow(a,b,m), sep='\\n')"
   ]
  },
  {
   "cell_type": "markdown",
   "metadata": {},
   "source": [
    "Mod Divmod <br>\n",
    "https://www.hackerrank.com/challenges/python-mod-divmod/problem <br>\n",
    "https://www.hackerrank.com/challenges/python-mod-divmod/submissions/code/190393389"
   ]
  },
  {
   "cell_type": "code",
   "execution_count": null,
   "metadata": {},
   "outputs": [],
   "source": [
    "a,b = (int(input()) for _ in range(2))\n",
    "print(a//b, a%b, divmod(a,b), sep='\\n')"
   ]
  },
  {
   "cell_type": "markdown",
   "metadata": {},
   "source": [
    "Find Angle MBC <br>\n",
    "https://www.hackerrank.com/challenges/find-angle/problem <br>\n",
    "https://www.hackerrank.com/challenges/find-angle/submissions/code/190398064"
   ]
  },
  {
   "cell_type": "code",
   "execution_count": null,
   "metadata": {},
   "outputs": [],
   "source": [
    "import math\n",
    "\n",
    "ab,bc = (int(input()) for _ in range(2))\n",
    "print(str(round(math.degrees(math.atan2(ab,bc))))+'°')\n",
    "# the above is the same as:"
   ]
  },
  {
   "cell_type": "code",
   "execution_count": null,
   "metadata": {},
   "outputs": [],
   "source": [
    "import math\n",
    "\n",
    "ab,bc = (int(input()) for _ in range(2))\n",
    "print(str(round(90 - math.atan(ab/bc)*180/math.pi))+'°')"
   ]
  },
  {
   "cell_type": "markdown",
   "metadata": {},
   "source": [
    "<br>\n",
    "<br>"
   ]
  },
  {
   "cell_type": "markdown",
   "metadata": {},
   "source": [
    "## Python FunctionalsMap"
   ]
  },
  {
   "cell_type": "markdown",
   "metadata": {},
   "source": [
    "Map and Lambda Function <br>\n",
    "https://www.hackerrank.com/challenges/map-and-lambda-expression/problem <br>\n",
    "https://www.hackerrank.com/challenges/map-and-lambda-expression/submissions/code/190144753"
   ]
  },
  {
   "cell_type": "code",
   "execution_count": null,
   "metadata": {},
   "outputs": [],
   "source": [
    "# Sample Input\n",
    "# 5\n",
    "\n",
    "# Sample Output\n",
    "# [0, 1, 1, 8, 27]"
   ]
  },
  {
   "cell_type": "code",
   "execution_count": null,
   "metadata": {},
   "outputs": [],
   "source": [
    "# version 1\n",
    "fib = lambda y: y if y < 2 else fib(y - 1) + fib(y - 2)\n",
    "print(list(map( lambda x: x**3, map(fib, range(int(input()))) )))"
   ]
  },
  {
   "cell_type": "code",
   "execution_count": null,
   "metadata": {},
   "outputs": [],
   "source": [
    "# version 2\n",
    "cube = lambda x: x**3\n",
    "\n",
    "def fibonacci(n):\n",
    "    # return a list of fibonacci numbers\n",
    "    if n < 2:\n",
    "        return [0, 1]\n",
    "    else:\n",
    "        l = [0,1,1]\n",
    "        for i in range(3, n):\n",
    "            l.append(l[i-1] + l[i-2])\n",
    "        return l\n",
    "\n",
    "if __name__ == '__main__':\n",
    "    n = int(input())\n",
    "    print(list(map(cube, fibonacci(n))))"
   ]
  },
  {
   "cell_type": "markdown",
   "metadata": {},
   "source": [
    "## Errors and Exceptions"
   ]
  },
  {
   "cell_type": "markdown",
   "metadata": {},
   "source": [
    "Incorrect Regex <br>\n",
    "https://www.hackerrank.com/challenges/incorrect-regex/problem <br>\n",
    "https://www.hackerrank.com/challenges/incorrect-regex/submissions/code/190279527"
   ]
  },
  {
   "cell_type": "code",
   "execution_count": null,
   "metadata": {},
   "outputs": [],
   "source": [
    "import re\n",
    "for _ in range(int(input())):\n",
    "    try:\n",
    "        print(bool(re.compile(input())))\n",
    "    except re.error:\n",
    "        print(False)"
   ]
  },
  {
   "cell_type": "markdown",
   "metadata": {},
   "source": [
    "## Date and Time"
   ]
  },
  {
   "cell_type": "markdown",
   "metadata": {},
   "source": [
    "Calendar Module <br>\n",
    "https://www.hackerrank.com/challenges/calendar-module/problem <br>\n",
    "https://www.hackerrank.com/challenges/calendar-module/submissions/code/190288770"
   ]
  },
  {
   "cell_type": "code",
   "execution_count": 4,
   "metadata": {
    "scrolled": true
   },
   "outputs": [
    {
     "name": "stdout",
     "output_type": "stream",
     "text": [
      "Sunday\n"
     ]
    }
   ],
   "source": [
    "import calendar\n",
    "\n",
    "m,d,y = (int(i) for i in input().split()) # convert string to integers to pass to .weekday()\n",
    "print(list(calendar.day_name)[calendar.weekday(y,m,d)].upper()) \n",
    "\n",
    "# list(calendar.day_name) converts calendar object which has all names of the days in a week to a list\n",
    "# calendar.weekday(y,m,d) returns a number"
   ]
  },
  {
   "cell_type": "code",
   "execution_count": 5,
   "metadata": {},
   "outputs": [],
   "source": [
    "'''\n",
    "Tomohiko Sakamoto's algorithm:\n",
    "\n",
    "def dow(y, m, d):\n",
    "    t = [0, 3, 2, 5, 0, 3, 5, 1, 4, 6, 2, 4]\n",
    "    y -= m<3\n",
    "    return (y + y//4 - y//100 + y//400 + t[m-1] + d) % 7\n",
    "''' "
   ]
  }
 ],
 "metadata": {
  "kernelspec": {
   "display_name": "Python 3",
   "language": "python",
   "name": "python3"
  },
  "language_info": {
   "codemirror_mode": {
    "name": "ipython",
    "version": 3
   },
   "file_extension": ".py",
   "mimetype": "text/x-python",
   "name": "python",
   "nbconvert_exporter": "python",
   "pygments_lexer": "ipython3",
   "version": "3.7.3"
  }
 },
 "nbformat": 4,
 "nbformat_minor": 2
}
