{
 "cells": [
  {
   "cell_type": "code",
   "execution_count": null,
   "metadata": {},
   "outputs": [],
   "source": [
    "%config IPCompleter.greedy=True"
   ]
  },
  {
   "cell_type": "markdown",
   "metadata": {},
   "source": [
    "## Collections"
   ]
  },
  {
   "cell_type": "markdown",
   "metadata": {},
   "source": [
    "collections.namedtuple() <br>\n",
    "https://www.hackerrank.com/challenges/py-collections-namedtuple/problem <br>\n",
    "https://www.hackerrank.com/challenges/py-collections-namedtuple/submissions/code/189199646"
   ]
  },
  {
   "cell_type": "code",
   "execution_count": null,
   "metadata": {},
   "outputs": [],
   "source": [
    "# testcase 1\n",
    "# 5\n",
    "# ID         MARKS      NAME       CLASS     \n",
    "# 1          97         Raymond    7         \n",
    "# 2          50         Steven     4         \n",
    "# 3          91         Adrian     9         \n",
    "# 4          72         Stewart    5         \n",
    "# 5          80         Peter      6   "
   ]
  },
  {
   "cell_type": "markdown",
   "metadata": {},
   "source": [
    "below is my completely original solution submitted on 11/25/2020 without reading anyone else's code"
   ]
  },
  {
   "cell_type": "code",
   "execution_count": null,
   "metadata": {},
   "outputs": [],
   "source": [
    "# The challenege is to solve the problem within 4 lines.\n",
    "from collections import namedtuple\n",
    "\n",
    "n,Students = int(input()),namedtuple('Students', input())\n",
    "print('{0:.2f}'.format(sum([int(Students(*input().split()).MARKS) for _ in range(n)])/n))"
   ]
  },
  {
   "cell_type": "code",
   "execution_count": null,
   "metadata": {},
   "outputs": [],
   "source": [
    "# the above code is equivalent to the following code without creating a list or declaring object marks \n",
    "scores = []\n",
    "\n",
    "n = int(input())\n",
    "Students = namedtuple('Students', input())\n",
    "\n",
    "for _ in range(n):\n",
    "    marks = Students(*input().split())\n",
    "    scores.append(int(marks.MARKS))\n",
    "\n",
    "print('{0:.2f}'.format(sum(scores)/n))"
   ]
  }
 ],
 "metadata": {
  "kernelspec": {
   "display_name": "Python 3",
   "language": "python",
   "name": "python3"
  },
  "language_info": {
   "codemirror_mode": {
    "name": "ipython",
    "version": 3
   },
   "file_extension": ".py",
   "mimetype": "text/x-python",
   "name": "python",
   "nbconvert_exporter": "python",
   "pygments_lexer": "ipython3",
   "version": "3.7.3"
  }
 },
 "nbformat": 4,
 "nbformat_minor": 2
}
